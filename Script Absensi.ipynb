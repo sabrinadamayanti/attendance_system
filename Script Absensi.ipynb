{
 "cells": [
  {
   "cell_type": "markdown",
   "metadata": {},
   "source": [
    "#### Export 1 file excel to Many Files"
   ]
  },
  {
   "cell_type": "code",
   "execution_count": 3,
   "metadata": {},
   "outputs": [],
   "source": [
    "import pandas as pd\n",
    "absensi = pd.read_excel('file/absensi.xlsx')\n",
    "\n",
    "data = absensi[['ID','Fullname']].drop_duplicates(['ID','Fullname'])\n",
    "\n",
    "for i, row in data.iterrows():\n",
    "#   name = sorted(list(set(absensi['Fullname'])))\n",
    "    filename = row['Fullname']\n",
    "    x = absensi[(absensi['ID'] == row['ID'])]\n",
    "    writer = pd.ExcelWriter('employee/' + filename + '.xlsx') \n",
    "    x.to_excel(writer, 'Sheet 1', index=False) \n",
    "    writer.save()"
   ]
  },
  {
   "cell_type": "markdown",
   "metadata": {},
   "source": [
    "### Test RIRIN"
   ]
  },
  {
   "cell_type": "code",
   "execution_count": 3,
   "metadata": {},
   "outputs": [],
   "source": [
    "import pandas as pd\n",
    "absensi = pd.read_excel('file/sadevteam.xlsx')\n",
    "\n",
    "data = absensi[['ID','Fullname']].drop_duplicates(['ID','Fullname'])\n",
    "\n",
    "for i, row in data.iterrows():\n",
    "#   name = sorted(list(set(absensi['Fullname'])))\n",
    "    filename = row['Fullname']\n",
    "    x = absensi[(absensi['ID'] == row['ID'])]\n",
    "    writer = pd.ExcelWriter('testemail/' + filename + '.xlsx') \n",
    "    x.to_excel(writer, 'Sheet 1', index=False) \n",
    "    writer.save()"
   ]
  },
  {
   "cell_type": "markdown",
   "metadata": {},
   "source": [
    "#### Merge to 1 file"
   ]
  },
  {
   "cell_type": "code",
   "execution_count": 4,
   "metadata": {},
   "outputs": [],
   "source": [
    "import numpy as np\n",
    "import pandas as pd\n",
    "import glob\n",
    "all_data = pd.DataFrame()\n",
    "\n",
    "for i in glob.glob(\"employee/*.xlsx\"):\n",
    "    data = pd.read_excel(i)\n",
    "    all_data = all_data.append(data,ignore_index=True)\n",
    "\n",
    "writer = pd.ExcelWriter('absensi.xlsx')\n",
    "all_data.to_excel(writer,'sheet1',index=False)\n",
    "writer.save()   "
   ]
  },
  {
   "cell_type": "code",
   "execution_count": 5,
   "metadata": {},
   "outputs": [
    {
     "name": "stdout",
     "output_type": "stream",
     "text": [
      "employee\\Yudhi Irawan.xlsx\n"
     ]
    }
   ],
   "source": [
    "print (i)"
   ]
  },
  {
   "cell_type": "markdown",
   "metadata": {},
   "source": [
    "#### Send email non attach file by excel list email"
   ]
  },
  {
   "cell_type": "code",
   "execution_count": null,
   "metadata": {},
   "outputs": [],
   "source": [
    "import pandas as pd\n",
    "import smtplib\n",
    "\n",
    "\n",
    "your_name = \"RIRIN\"\n",
    "your_email = \"sabrina.damayanti@prima-integrasi.co.id\"\n",
    "your_password = \"\"\n",
    "\n",
    "# If you are using something other than gmail\n",
    "# then change the 'smtp.gmail.com' and 465 in the line below\n",
    "server = smtplib.SMTP(host='smtp.prima-integrasi.co.id', port=587)\n",
    "server.starttls()\n",
    "server.login(your_email, your_password)\n",
    "\n",
    "# Read the file\n",
    "email_list = pd.read_excel(\"emailemp.xlsx\")\n",
    "\n",
    "# Get all the Names, Email Addreses, Subjects and Messages\n",
    "all_names = email_list['Name']\n",
    "all_emails = email_list['Email']\n",
    "all_subjects = email_list['Subject']\n",
    "all_messages = email_list['Message']\n",
    "\n",
    "# Loop through the emails\n",
    "for idx in range(len(all_emails)):\n",
    "\n",
    "    # Get each records name, email, subject and message\n",
    "    name = all_names[idx]\n",
    "    email = all_emails[idx]\n",
    "    subject = all_subjects[idx]\n",
    "    message = all_messages[idx]\n",
    "\n",
    "    # Create the email to send\n",
    "    full_email = (\"From: {0} <{1}>\\n\"\n",
    "                  \"To: {2} <{3}>\\n\"\n",
    "                  \"Subject: {4}\\n\\n\"\n",
    "                  \"{5}\"\n",
    "                  .format(your_name, your_email, name, email, subject, message))\n",
    "\n",
    "    # In the email field, you can add multiple other emails if you want\n",
    "    # all of them to receive the same text\n",
    "    try:\n",
    "        server.sendmail(your_email, [email], full_email)\n",
    "        print('Email to {} successfully sent!\\n'.format(email))\n",
    "    except Exception as e:\n",
    "        print('Email to {} could not be sent :( because {}\\n'.format(email, str(e)))\n",
    "\n",
    "# Close the smtp server\n",
    "server.close()"
   ]
  },
  {
   "cell_type": "markdown",
   "metadata": {},
   "source": [
    "#### send attach 1 receiver"
   ]
  },
  {
   "cell_type": "code",
   "execution_count": null,
   "metadata": {},
   "outputs": [],
   "source": [
    "import smtplib\n",
    "from email.mime.multipart import MIMEMultipart\n",
    "from email.mime.text import MIMEText\n",
    "from email.mime.base import MIMEBase\n",
    "from email import encoders\n",
    "\n",
    "send = \"sabrina.damayanti@prima-integrasi.co.id\"\n",
    "to = \"sabrina.damayanti@prima-integrasi.co.id\"\n",
    "\n",
    "# instance of MIMEMultipart\n",
    "data = MIMEMultipart()\n",
    "\n",
    "# storing the senders email address  \n",
    "data['From'] = send\n",
    "\n",
    "# storing the receivers email address \n",
    "data['To'] = to\n",
    "\n",
    "# storing the subject \n",
    "data['Subject'] = \"Absensi 20 Jan 2020 - 21 Feb 2020\"\n",
    "\n",
    "# string to store the body of the mail\n",
    "body = \"Here, I attach your attendance. Please complete this file.\"\n",
    "\n",
    "# attach the body with the msg instance\n",
    "data.attach(MIMEText(body, 'plain'))\n",
    "\n",
    "# open the file to be sent \n",
    "filename = \"Karina Rahma Andriani.xlsx\"\n",
    "attachment = open(\"test/Sabrina Damayanti.xlsx\", \"rb\")\n",
    "\n",
    "# instance of MIMEBase and named as p\n",
    "p = MIMEBase('application', 'octet-stream')\n",
    "\n",
    "# To change the payload into encoded form\n",
    "p.set_payload((attachment).read())\n",
    "\n",
    "# encode into base64\n",
    "encoders.encode_base64(p)\n",
    "p.add_header('Content-Disposition', \"attachment; filename= %s\" % filename)\n",
    "\n",
    "# attach the instance 'p' to instance 'msg'\n",
    "data.attach(p)\n",
    "\n",
    "# creates SMTP session\n",
    "s = smtplib.SMTP('smtp.prima-integrasi.co.id', 587)\n",
    "\n",
    "# start TLS for security\n",
    "s.starttls()\n",
    "\n",
    "# Authentication\n",
    "s.login(send, \"\")\n",
    "\n",
    "# Converts the Multipart msg into a string\n",
    "text = data.as_string()\n",
    "\n",
    "# sending the mail\n",
    "s.sendmail(send, to, text)\n",
    "\n",
    "# terminating the session\n",
    "s.quit()"
   ]
  },
  {
   "cell_type": "code",
   "execution_count": null,
   "metadata": {},
   "outputs": [],
   "source": [
    "    data = MIMEMultipart()\n",
    "    data['From'] = send\n",
    "    data['To'] = mails\n",
    "    data['Subject'] = \"Test Absen\"\n",
    "    body = \"Here, I attach your attendance. Please complete this file.\"\n",
    "\n",
    "    data.attach(MIMEText(body, 'plain'))\n",
    "\n",
    "\n",
    "    doc =  \"test2/\" + filename + \".xlsx\"\n",
    "    attachment = open(doc, \"rb\")\n",
    "    x = MIMEBase('application', 'vnd.ms-excel')\n",
    "    x.set_payload((attachment).read())\n",
    "\n",
    "    encoders.encode_base64(x)\n",
    "    #x.add_header('Content-Disposition', \"attachment; filename= %s\" % filename)\n",
    "    x.add_header ('Content-Disposition', 'attachment', filename=doc)\n",
    "    data.attach(x)\n",
    "\n",
    "ss = smtplib.SMTP('smtp.prima-integrasi.co.id', 587)\n",
    "ss.starttls()\n",
    "ss.login(send, password)\n",
    "text = data.as_string()\n",
    "ss.sendmail(send, to, text)\n",
    "ss.quit()\n",
    "print('Email successfully sent!')"
   ]
  },
  {
   "cell_type": "markdown",
   "metadata": {},
   "source": [
    "#### ambil id, email, nama file untuk dijadikan 1 file excel untuk kirim ke email"
   ]
  },
  {
   "cell_type": "code",
   "execution_count": 2,
   "metadata": {},
   "outputs": [],
   "source": [
    "import pandas as pd\n",
    "\n",
    "attendance = pd.read_excel('file/sadevteam.xlsx')\n",
    "email = pd.read_excel('file/emailemp22.xlsx')\n",
    "data =  attendance[['ID','Fullname']].drop_duplicates(['ID', 'Fullname'])\n",
    "data_email = email[['ID','Email']].drop_duplicates(['ID', 'Email'])\n",
    "email_result = pd.DataFrame(columns = [\"ID\", \"Name\", \"Email\", \"Filename\"])\n",
    "\n",
    "for i, row in data.iterrows():\n",
    "    filename = row['Fullname']\n",
    "    x = data_email[data_email['ID']==row['ID']]\n",
    "    if x.empty == False:\n",
    "        new_row = {'ID':x['ID'].values[0], 'Name':filename, 'Email':x['Email'].values[0], 'Filename':filename + '.xlsx'}\n",
    "        email_result = email_result.append(new_row, ignore_index=True)\n",
    "\n",
    "writer = pd.ExcelWriter('SendEmail.xlsx')\n",
    "email_result.to_excel(writer, 'Sheet1', index=False)\n",
    "writer.save()"
   ]
  },
  {
   "cell_type": "code",
   "execution_count": 3,
   "metadata": {},
   "outputs": [
    {
     "data": {
      "text/html": [
       "<div>\n",
       "<style scoped>\n",
       "    .dataframe tbody tr th:only-of-type {\n",
       "        vertical-align: middle;\n",
       "    }\n",
       "\n",
       "    .dataframe tbody tr th {\n",
       "        vertical-align: top;\n",
       "    }\n",
       "\n",
       "    .dataframe thead th {\n",
       "        text-align: right;\n",
       "    }\n",
       "</style>\n",
       "<table border=\"1\" class=\"dataframe\">\n",
       "  <thead>\n",
       "    <tr style=\"text-align: right;\">\n",
       "      <th></th>\n",
       "      <th>ID</th>\n",
       "      <th>Email</th>\n",
       "    </tr>\n",
       "  </thead>\n",
       "  <tbody>\n",
       "    <tr>\n",
       "      <th>2</th>\n",
       "      <td>13.215p</td>\n",
       "      <td>sabrinadamayanti15@gmail.com</td>\n",
       "    </tr>\n",
       "  </tbody>\n",
       "</table>\n",
       "</div>"
      ],
      "text/plain": [
       "        ID                         Email\n",
       "2  13.215p  sabrinadamayanti15@gmail.com"
      ]
     },
     "execution_count": 3,
     "metadata": {},
     "output_type": "execute_result"
    }
   ],
   "source": [
    "x"
   ]
  },
  {
   "cell_type": "code",
   "execution_count": null,
   "metadata": {},
   "outputs": [],
   "source": [
    "import pandas as pd\n",
    "import smtplib\n",
    "import getpass\n",
    "from email.mime.multipart import MIMEMultipart\n",
    "from email.mime.text import MIMEText\n",
    "from email.mime.base import MIMEBase\n",
    "from email import encoders\n",
    "\n",
    "send = \"sabrina.damayanti@prima-integrasi.co.id\"\n",
    "password = getpass.getpass('Password: ')\n",
    "email_list = pd.read_excel(\"file/SendEmail.xlsx\")\n",
    "email = email_list['Email']\n",
    "to = list(email)\n",
    "\n",
    "data = MIMEMultipart()\n",
    "data['From'] = send\n",
    "data['To'] = str(to)\n",
    "data['Subject'] = \"Absensi 20 Jan 2020 - 21 Feb 2020\"\n",
    "body = \"Here, I attach your attendance. Please complete this file.\"\n",
    "\n",
    "data.attach(MIMEText(body, 'plain'))\n",
    "\n",
    "file = \"test/Karina Rahma Andriani.xlsx\"\n",
    "attachment = open(file, \"rb\")\n",
    "\n",
    "x = MIMEBase('application', 'vnd.ms-excel')\n",
    "x.set_payload((attachment).read())\n",
    "\n",
    "encoders.encode_base64(x)\n",
    "x.add_header('Content-Disposition', 'attachment', filename = file)\n",
    "data.attach(x)\n",
    "\n",
    "ss = smtplib.SMTP('smtp.prima-integrasi.co.id', 587)\n",
    "ss.starttls()\n",
    "ss.login(send, password)\n",
    "text = data.as_string()\n",
    "ss.sendmail(send, to, text)\n",
    "ss.quit()\n",
    "print('Email successfully sent!')"
   ]
  },
  {
   "cell_type": "markdown",
   "metadata": {},
   "source": [
    "### Send Email with Attachment"
   ]
  },
  {
   "cell_type": "code",
   "execution_count": null,
   "metadata": {},
   "outputs": [],
   "source": [
    "import pandas as pd\n",
    "import smtplib\n",
    "import getpass\n",
    "from email.mime.multipart import MIMEMultipart\n",
    "from email.mime.text import MIMEText\n",
    "from email.mime.base import MIMEBase\n",
    "from email import encoders\n",
    "\n",
    "send = \"sabrina.damayanti@prima-integrasi.co.id\"\n",
    "password = getpass.getpass('Password: ')\n",
    "data_email = pd.read_excel('file/SendEmail.xlsx')\n",
    "\n",
    "for data, row in data_email.iterrows():\n",
    "    ids = row['ID']\n",
    "    emails = row['Email']\n",
    "    filenames = row['Filename']\n",
    "    names = row['Name']\n",
    "    \n",
    "\n",
    "    data = MIMEMultipart()\n",
    "    data['From'] = send\n",
    "    data['To'] = emails\n",
    "    data['Subject'] = \"Absensi 20 Jan 2020 - 21 Feb 2020\"\n",
    "    body = \"Hello \" +names+ \". Please complete your attendance and send me back! Thank You.\"\n",
    "    \n",
    "    data.attach(MIMEText(body, 'plain'))\n",
    "\n",
    "    file = \"testemail/\" +filenames\n",
    "    attachment = open(file, \"rb\")\n",
    "\n",
    "    x = MIMEBase('application', 'vnd.ms-excel')\n",
    "    x.set_payload((attachment).read())\n",
    "\n",
    "    encoders.encode_base64(x)\n",
    "    x.add_header('Content-Disposition', 'attachment', filename = file)\n",
    "    data.attach(x)\n",
    "\n",
    "    ss = smtplib.SMTP('smtp.prima-integrasi.co.id', 587)\n",
    "    ss.starttls()\n",
    "    ss.login(send, password)\n",
    "    text = data.as_string()\n",
    "    ss.sendmail(send, emails, text)\n",
    "    ss.quit()\n",
    "    print('Email to ' +emails+ ' successfully sent!')"
   ]
  },
  {
   "cell_type": "code",
   "execution_count": null,
   "metadata": {},
   "outputs": [],
   "source": []
  },
  {
   "cell_type": "markdown",
   "metadata": {},
   "source": [
    "#### Receive attachment email Unseen with GMAIL"
   ]
  },
  {
   "cell_type": "code",
   "execution_count": null,
   "metadata": {},
   "outputs": [],
   "source": [
    "import email\n",
    "import getpass, imaplib\n",
    "import os\n",
    "import sys\n",
    "import time\n",
    "\n",
    "detach_dir = 'C:/Users/Sabrina Damayanti/Training_Machine_Learning/Belajar/receive_email'\n",
    "\n",
    "userName = 'acc.sabrinaa@gmail.com'\n",
    "passwd = getpass.getpass('Enter your password:\\n')\n",
    "\n",
    "\n",
    "try:\n",
    "    imapSession = imaplib.IMAP4_SSL('imap.gmail.com',993)\n",
    "    typ, accountDetails = imapSession.login(userName, passwd)\n",
    "    if typ != 'OK':\n",
    "        print ('Not able to sign in!')\n",
    "        raise\n",
    "\n",
    "    imapSession.select('Inbox')\n",
    "    typ, data = imapSession.search(None, 'UnSeen')\n",
    "    if typ != 'OK':\n",
    "        print ('Error searching Inbox.')\n",
    "        raise\n",
    "\n",
    "    # Iterating over all emails\n",
    "    for msgId in data[0].split():\n",
    "        typ, messageParts = imapSession.fetch(msgId, '(RFC822)')\n",
    "\n",
    "        if typ != 'OK':\n",
    "            print ('Error fetching mail.')\n",
    "            raise \n",
    "\n",
    "        #print(type(emailBody))\n",
    "        emailBody = messageParts[0][1]\n",
    "        #mail = email.message_from_string(emailBody)\n",
    "        mail = email.message_from_bytes(emailBody)\n",
    "\n",
    "        for part in mail.walk():\n",
    "            #print (part)\n",
    "            if part.get_content_maintype() == 'multipart':\n",
    "                # print part.as_string()\n",
    "                continue\n",
    "            if part.get('Content-Disposition') is None:\n",
    "                # print part.as_string()\n",
    "                continue\n",
    "\n",
    "            fileName = part.get_filename()\n",
    "\n",
    "            if bool(fileName):\n",
    "                filePath = os.path.join(detach_dir, fileName)\n",
    "                if not os.path.isfile(filePath) :\n",
    "                    print (fileName)\n",
    "                    fp = open(filePath, 'wb')\n",
    "                    fp.write(part.get_payload(decode=True))\n",
    "                    fp.close()\n",
    "\n",
    "    imapSession.close()\n",
    "    imapSession.logout()\n",
    "\n",
    "except :\n",
    "    print ('Not able to download all attachments.')\n",
    "    time.sleep(3)"
   ]
  },
  {
   "cell_type": "markdown",
   "metadata": {},
   "source": [
    "#### Receive / Download Attachment UnRead from Outlook based on Subject"
   ]
  },
  {
   "cell_type": "code",
   "execution_count": null,
   "metadata": {},
   "outputs": [],
   "source": [
    "import datetime\n",
    "\n",
    "from win32com.client import Dispatch\n",
    "outlook = Dispatch(\"Outlook.Application\").GetNamespace(\"MAPI\")\n",
    "inbox = outlook.GetDefaultFolder(\"6\")\n",
    "all_inbox = inbox.Items\n",
    "unseen = all_inbox.Restrict(\"[Unread] = true\")\n",
    "val_date = datetime.date.today()\n",
    "\n",
    "sub_today = 'Re: Absensi 20 Feb 2020 - 21 Maret 2020'\n",
    "\n",
    "for msg in unseen:\n",
    "    for att in msg.Attachments:\n",
    "        if msg.Subject == sub_today and msg.Senton.date() == val_date:\n",
    "            subjectname = msg.Subject\n",
    "            try:\n",
    "                att.SaveAsFile('C:/Users/Sabrina Damayanti/Training_Machine_Learning/Belajar/attachments' + '\\\\'+ att.FileName)\n",
    "                print(att.FileName + \" Successful Download\")\n",
    "            except:\n",
    "                print(att.FileName + \"Error Download Failed\")\n"
   ]
  },
  {
   "cell_type": "code",
   "execution_count": null,
   "metadata": {},
   "outputs": [],
   "source": []
  },
  {
   "cell_type": "code",
   "execution_count": null,
   "metadata": {},
   "outputs": [],
   "source": []
  },
  {
   "cell_type": "code",
   "execution_count": null,
   "metadata": {},
   "outputs": [],
   "source": []
  },
  {
   "cell_type": "code",
   "execution_count": null,
   "metadata": {},
   "outputs": [],
   "source": []
  },
  {
   "cell_type": "markdown",
   "metadata": {},
   "source": [
    "### FIX Code"
   ]
  },
  {
   "cell_type": "markdown",
   "metadata": {},
   "source": [
    "#### 1. export to excel from 1 file "
   ]
  },
  {
   "cell_type": "code",
   "execution_count": 2,
   "metadata": {},
   "outputs": [],
   "source": [
    "import pandas as pd\n",
    "absensi = pd.read_excel('file/absensi.xlsx')\n",
    "\n",
    "data = absensi[['ID','Fullname']].drop_duplicates(['ID','Fullname'])\n",
    "\n",
    "for i, row in data.iterrows():\n",
    "    filename = row['Fullname']\n",
    "    x = absensi[(absensi['ID'] == row['ID'])]\n",
    "    writer = pd.ExcelWriter('employee/' + filename + '.xlsx') \n",
    "    x.to_excel(writer, 'Sheet 1', index=False) \n",
    "    writer.save()"
   ]
  },
  {
   "cell_type": "markdown",
   "metadata": {},
   "source": [
    "#### 1.1. Reverse"
   ]
  },
  {
   "cell_type": "code",
   "execution_count": 3,
   "metadata": {},
   "outputs": [],
   "source": [
    "import numpy as np\n",
    "import pandas as pd\n",
    "import glob\n",
    "all_data = pd.DataFrame()\n",
    "\n",
    "for i in glob.glob(\"employee/*.xlsx\"):\n",
    "    data = pd.read_excel(i)\n",
    "    all_data = all_data.append(data,ignore_index=True)\n",
    "\n",
    "writer = pd.ExcelWriter('file/absensi_merge.xlsx')\n",
    "all_data.to_excel(writer,'sheet1',index=False)\n",
    "writer.save()   "
   ]
  },
  {
   "cell_type": "markdown",
   "metadata": {},
   "source": [
    "#### 2. Create file for filename excel"
   ]
  },
  {
   "cell_type": "code",
   "execution_count": 4,
   "metadata": {},
   "outputs": [],
   "source": [
    "import pandas as pd\n",
    "\n",
    "attendance = pd.read_excel('file/absensi.xlsx')\n",
    "email = pd.read_excel('file/FileEmail.xlsx')\n",
    "data =  attendance[['ID','Fullname']].drop_duplicates(['ID', 'Fullname'])\n",
    "data_email = email[['ID','Email']].drop_duplicates(['ID', 'Email'])\n",
    "email_result = pd.DataFrame(columns = [\"ID\", \"Name\", \"Email\", \"Filename\"])\n",
    "\n",
    "for i, row in data.iterrows():\n",
    "    filename = row['Fullname']\n",
    "    x = data_email[data_email['ID']==row['ID']]\n",
    "    if x.empty == False:\n",
    "        new_row = {'ID':x['ID'].values[0], 'Name':filename, 'Email':x['Email'].values[0], 'Filename':filename + '.xlsx'}\n",
    "        email_result = email_result.append(new_row, ignore_index=True)\n",
    "\n",
    "writer = pd.ExcelWriter('file/DataSendEmail.xlsx')\n",
    "email_result.to_excel(writer, 'Sheet1', index=False)\n",
    "writer.save()"
   ]
  },
  {
   "cell_type": "markdown",
   "metadata": {},
   "source": [
    "#### 3. Send Email with attachment (employee based on name)"
   ]
  },
  {
   "cell_type": "code",
   "execution_count": null,
   "metadata": {},
   "outputs": [],
   "source": [
    "import pandas as pd\n",
    "import smtplib\n",
    "import getpass\n",
    "from email.mime.multipart import MIMEMultipart\n",
    "from email.mime.text import MIMEText\n",
    "from email.mime.base import MIMEBase\n",
    "from email import encoders\n",
    "\n",
    "send = \"sabrina.damayanti@prima-integrasi.co.id\"\n",
    "password = getpass.getpass('Password: ')\n",
    "data_email = pd.read_excel('file/DataSendEmail.xlsx')\n",
    "\n",
    "for data, row in data_email.iterrows():\n",
    "    ids = row['ID']\n",
    "    emails = row['Email']\n",
    "    filenames = row['Filename']\n",
    "    names = row['Name']\n",
    "    \n",
    "\n",
    "    data = MIMEMultipart()\n",
    "    data['From'] = sendAbsensi 20 Jan 2020 - 21 Feb 2020\n",
    "    data['To'] = emails\n",
    "    data['Subject'] = \"Absensi 20 Jan 2020 - 21 Feb 2020\"\n",
    "    body = \"Hello \" +names+ \". Please complete your attendance and send me back! Thank You.\"\n",
    "    \n",
    "    data.attach(MIMEText(body, 'plain'))\n",
    "\n",
    "    file = \"employee/\" +filenames\n",
    "    attachment = open(file, \"rb\")\n",
    "\n",
    "    x = MIMEBase('application', 'vnd.ms-excel')\n",
    "    x.set_payload((attachment).read())\n",
    "\n",
    "    encoders.encode_base64(x)\n",
    "    x.add_header('Content-Disposition', 'attachment', filename = filenames)\n",
    "    data.attach(x)\n",
    "\n",
    "    ss = smtplib.SMTP('smtp.prima-integrasi.co.id', 587)\n",
    "    ss.starttls()\n",
    "    ss.login(send, password)\n",
    "    text = data.as_string()\n",
    "    ss.sendmail(send, emails, text)\n",
    "    ss.quit()\n",
    "    print('Email to ' +names+ ' successfully sent!')"
   ]
  },
  {
   "cell_type": "markdown",
   "metadata": {},
   "source": [
    "#### 4. Download All Attachment Inbox UnRead Outlook"
   ]
  },
  {
   "cell_type": "code",
   "execution_count": 2,
   "metadata": {},
   "outputs": [
    {
     "name": "stdout",
     "output_type": "stream",
     "text": [
      "~WRD0000.jpg Successful Download\n"
     ]
    }
   ],
   "source": [
    "import datetime\n",
    "\n",
    "from win32com.client import Dispatch\n",
    "outlook = Dispatch(\"Outlook.Application\").GetNamespace(\"MAPI\")\n",
    "inbox = outlook.GetDefaultFolder(\"6\")\n",
    "all_inbox = inbox.Items\n",
    "unseen = all_inbox.Restrict(\"[Unread] = true\")\n",
    "val_date = datetime.date.today()\n",
    "\n",
    "for msg in unseen:\n",
    "    for att in msg.Attachments:\n",
    "        if msg.Senton.date() == val_date:\n",
    "            subjectname = msg.Subject\n",
    "            try:\n",
    "                att.SaveAsFile('C:/Users/Sabrina Damayanti/Training_Machine_Learning/Belajar/attachments/part2' + '\\\\'+ att.FileName)\n",
    "                print(att.FileName + \" Successful Download\")\n",
    "            except:\n",
    "                print(att.FileName + \"Error Download Failed\")\n"
   ]
  },
  {
   "cell_type": "code",
   "execution_count": null,
   "metadata": {},
   "outputs": [],
   "source": []
  }
 ],
 "metadata": {
  "kernelspec": {
   "display_name": "Python 3",
   "language": "python",
   "name": "python3"
  },
  "language_info": {
   "codemirror_mode": {
    "name": "ipython",
    "version": 3
   },
   "file_extension": ".py",
   "mimetype": "text/x-python",
   "name": "python",
   "nbconvert_exporter": "python",
   "pygments_lexer": "ipython3",
   "version": "3.7.1"
  }
 },
 "nbformat": 4,
 "nbformat_minor": 2
}
